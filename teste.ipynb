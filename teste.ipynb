{
 "cells": [
  {
   "cell_type": "markdown",
   "id": "281b495a",
   "metadata": {},
   "source": [
    "# Trabalho de Análise de Rede Complexas."
   ]
  },
  {
   "cell_type": "markdown",
   "id": "4cec8252",
   "metadata": {},
   "source": [
    "## Imports"
   ]
  },
  {
   "cell_type": "code",
   "execution_count": 1,
   "id": "49554c07",
   "metadata": {},
   "outputs": [],
   "source": [
    "import requests\n",
    "import gzip\n",
    "import io\n",
    "import json\n",
    "import networkx as nx\n",
    "from datetime import datetime\n",
    "import matplotlib.pyplot as plt"
   ]
  },
  {
   "cell_type": "markdown",
   "id": "48f4bf06",
   "metadata": {},
   "source": [
    "## 1. Seleção/Coleta de Dados"
   ]
  },
  {
   "cell_type": "markdown",
   "id": "9c7ca952",
   "metadata": {},
   "source": [
    "- Coletando dados de arquivos do github."
   ]
  },
  {
   "cell_type": "code",
   "execution_count": 2,
   "id": "25cc9326",
   "metadata": {},
   "outputs": [],
   "source": [
    "DATABASE_URL = \"https://data.gharchive.org/2023-06-10-0.json.gz\"\n",
    "\n",
    "def download_and_parse(url):\n",
    "\n",
    "    r = requests.get(url)\n",
    "    r.raise_for_status()\n",
    "\n",
    "    compressed_file = io.BytesIO(r.content)\n",
    "\n",
    "    with gzip.GzipFile(fileobj=compressed_file) as f:\n",
    "        for line in f:\n",
    "            yield json.loads(line)"
   ]
  },
  {
   "cell_type": "markdown",
   "id": "9d0c93fe",
   "metadata": {},
   "source": [
    "- Função para construir o grafo"
   ]
  },
  {
   "cell_type": "code",
   "execution_count": 3,
   "id": "532346f8",
   "metadata": {},
   "outputs": [],
   "source": [
    "def build_graph(events):\n",
    "    G = nx.Graph()\n",
    "    repo_to_users = {}\n",
    "\n",
    "    for e in events:\n",
    "        if e.get(\"type\") == \"PushEvent\":\n",
    "            repo_name = e[\"repo\"][\"name\"]\n",
    "            user = e[\"actor\"][\"login\"]\n",
    "\n",
    "            if repo_name not in repo_to_users:\n",
    "                repo_to_users[repo_name] = set()\n",
    "            repo_to_users[repo_name].add(user)\n",
    "\n",
    "    for repo, users in repo_to_users.items():\n",
    "        users_list = list(users)\n",
    "\n",
    "        for i in range(len(users_list)):\n",
    "            for j in range(i+1, len(users_list)):\n",
    "                u1 = users_list[i]\n",
    "                u2 = users_list[j]\n",
    "\n",
    "                if G.has_edge(u1, u2):\n",
    "                    G[u1][u2]['weight'] += 1\n",
    "                else:\n",
    "                    G.add_edge(u1, u2, weight=1)\n",
    "    return G\n"
   ]
  },
  {
   "cell_type": "markdown",
   "id": "a8b54d36",
   "metadata": {},
   "source": [
    "- Função para desenhar o grafo"
   ]
  },
  {
   "cell_type": "code",
   "execution_count": 4,
   "id": "15b90670",
   "metadata": {},
   "outputs": [],
   "source": [
    "def draw_graph(graph, degrees):\n",
    "    plt.figure(figsize=(12, 12))\n",
    "\n",
    "    pos = nx.spring_layout(graph, k=0.1)\n",
    "\n",
    "    nx.draw_networkx_nodes(graph, pos, node_size=[degrees[n] for n in graph.nodes()], node_color=\"blue\", alpha=0.7)\n",
    "    nx.draw_networkx_edges(graph, pos, alpha=0.3)\n",
    "    nx.draw_networkx_labels(graph, pos, font_size=8)"
   ]
  },
  {
   "cell_type": "markdown",
   "id": "50725fc4",
   "metadata": {},
   "source": [
    "- Função para carregar os graus"
   ]
  },
  {
   "cell_type": "code",
   "execution_count": 5,
   "id": "f7e1a441",
   "metadata": {},
   "outputs": [],
   "source": [
    "def load_degrees(graph):\n",
    "    degrees = dict(graph.degree())\n",
    "\n",
    "    degree_to_users = {}\n",
    "\n",
    "    for user, degree in degrees.items():\n",
    "        if degree not in degree_to_users:\n",
    "            degree_to_users[degree] = []\n",
    "\n",
    "        degree_to_users[degree].append(user)\n",
    "\n",
    "    return degree_to_users, degrees"
   ]
  },
  {
   "cell_type": "markdown",
   "id": "d0b179f2",
   "metadata": {},
   "source": [
    "## 2. Definição das questões de pesquisa\n",
    "\n",
    "1. Quais desenvolvedores colaboram com mais frequência com outros em projetos públicos?\n",
    "2. Existem grupos de desenvolvedores que colaboram preferencialmente entre si?\n",
    "3. Qual a densidade da rede de colaboração e o grau médio entre desenvolvedores?\n",
    "4. Existem desenvolvedores que funcionam como “ponte” entre grupos distintos?\n",
    "5. Quais repositórios promovem mais colaboração entre usuários diferentes?"
   ]
  },
  {
   "cell_type": "markdown",
   "id": "472ba5f9",
   "metadata": {},
   "source": [
    "## 3. Visualizações da rede"
   ]
  },
  {
   "cell_type": "markdown",
   "id": "a4ab5f43",
   "metadata": {},
   "source": [
    "- Carregando o grafo e seus graus"
   ]
  },
  {
   "cell_type": "code",
   "execution_count": null,
   "id": "31574074",
   "metadata": {},
   "outputs": [],
   "source": [
    "events = download_and_parse(DATABASE_URL)\n",
    "\n",
    "graph = build_graph(events)\n",
    "\n",
    "degrees_to_user, degrees = load_degrees(graph)"
   ]
  },
  {
   "cell_type": "markdown",
   "id": "24fd8b97",
   "metadata": {},
   "source": [
    "### 1ª Visualização - Componentes conexos\n",
    "- Isola e destaca o maior grupo de desenvolvedores conectados entre si."
   ]
  },
  {
   "cell_type": "code",
   "execution_count": null,
   "id": "d0c46aff",
   "metadata": {},
   "outputs": [],
   "source": [
    "largest_cc = max(nx.connected_components(graph), key=len)\n",
    "subgraph = graph.subgraph(largest_cc)\n",
    "\n",
    "draw_graph(subgraph, degrees)\n",
    "plt.title(\"Maior componente conexo da rede\")\n",
    "plt.savefig(\"./assets/maior_componente.png\")"
   ]
  },
  {
   "cell_type": "markdown",
   "id": "fd160ef1",
   "metadata": {},
   "source": [
    "### 2ª Visualização - Subgrafo com os 20 nós mais conectados"
   ]
  },
  {
   "cell_type": "code",
   "execution_count": null,
   "id": "1c5549a4",
   "metadata": {},
   "outputs": [],
   "source": [
    "top_users = sorted(degrees.items(), key=lambda x: x[1], reverse=True)[:20]\n",
    "top_usernames = [u for u, _ in top_users]\n",
    "subgraph = graph.subgraph(top_usernames)\n",
    "\n",
    "draw_graph(subgraph, degrees)\n",
    "plt.title(\"Subgrafo: Top 20 desenvolvedores por grau\")\n",
    "plt.savefig(\"./assets/top20_grafo.png\")"
   ]
  },
  {
   "cell_type": "markdown",
   "id": "11aa0c93",
   "metadata": {},
   "source": [
    "### 3ª Visualização - Rede com nós dimensionados pela centralidade (grau)"
   ]
  },
  {
   "cell_type": "code",
   "execution_count": null,
   "id": "22f51136",
   "metadata": {},
   "outputs": [],
   "source": [
    "draw_graph(graph, degrees)\n",
    "\n",
    "plt.title(\"Rede de Colaboração entre Desenvolvedores (PushEvent)\")\n",
    "plt.axis(\"off\")\n",
    "plt.tight_layout()\n",
    "plt.savefig('./assets/rede-colaboracao-devs.png')"
   ]
  },
  {
   "cell_type": "markdown",
   "id": "70033ef0",
   "metadata": {},
   "source": [
    "## 4. Análise estrutural"
   ]
  },
  {
   "cell_type": "markdown",
   "id": "017ce510",
   "metadata": {},
   "source": [
    "## 5. Aplicação de técnicas adicionais"
   ]
  },
  {
   "cell_type": "markdown",
   "id": "caa1f1a1",
   "metadata": {},
   "source": [
    "## 6. Discussão e conclusões"
   ]
  }
 ],
 "metadata": {
  "kernelspec": {
   "display_name": "Python 3",
   "language": "python",
   "name": "python3"
  },
  "language_info": {
   "codemirror_mode": {
    "name": "ipython",
    "version": 3
   },
   "file_extension": ".py",
   "mimetype": "text/x-python",
   "name": "python",
   "nbconvert_exporter": "python",
   "pygments_lexer": "ipython3",
   "version": "3.13.3"
  }
 },
 "nbformat": 4,
 "nbformat_minor": 5
}
