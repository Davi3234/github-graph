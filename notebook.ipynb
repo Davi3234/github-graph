{
 "cells": [
  {
   "cell_type": "markdown",
   "id": "281b495a",
   "metadata": {},
   "source": [
    "# Trabalho de Análise de Rede Complexas."
   ]
  },
  {
   "cell_type": "markdown",
   "id": "4cec8252",
   "metadata": {},
   "source": [
    "## Imports"
   ]
  },
  {
   "cell_type": "code",
   "execution_count": null,
   "id": "49554c07",
   "metadata": {},
   "outputs": [],
   "source": [
    "import requests\n",
    "import gzip\n",
    "import io\n",
    "import json\n",
    "import networkx as nx\n",
    "import matplotlib.pyplot as plt\n",
    "import matplotlib.cm as cm\n",
    "import pandas as pd\n",
    "import community as community_louvain\n",
    "from datetime import datetime, timedelta"
   ]
  },
  {
   "cell_type": "markdown",
   "id": "48f4bf06",
   "metadata": {},
   "source": [
    "## 1. Seleção/Coleta de Dados"
   ]
  },
  {
   "cell_type": "markdown",
   "id": "9c7ca952",
   "metadata": {},
   "source": [
    "- Coletando dados de arquivos do github."
   ]
  },
  {
   "cell_type": "code",
   "execution_count": null,
   "id": "25cc9326",
   "metadata": {},
   "outputs": [],
   "source": [
    "DATABASE_URL = \"https://data.gharchive.org/\"\n",
    "\n",
    "def download_and_parse(url):\n",
    "\n",
    "    r = requests.get(url)\n",
    "    r.raise_for_status()\n",
    "\n",
    "    compressed_file = io.BytesIO(r.content)\n",
    "\n",
    "    with gzip.GzipFile(fileobj=compressed_file) as f:\n",
    "        for line in f:\n",
    "            yield json.loads(line)\n",
    "\n",
    "def is_real_user(username):\n",
    "    username = username.lower()\n",
    "    bot_indicators = [\"bot\", \"github-actions\", \"web-flow\", \"dependabot\", \"[bot]\"]\n",
    "    return not any(indicator in username for indicator in bot_indicators)"
   ]
  },
  {
   "cell_type": "markdown",
   "id": "9d0c93fe",
   "metadata": {},
   "source": [
    "- Função para construir o grafo"
   ]
  },
  {
   "cell_type": "code",
   "execution_count": null,
   "id": "532346f8",
   "metadata": {},
   "outputs": [],
   "source": [
    "def build_graph(events):\n",
    "    G = nx.Graph()\n",
    "    repo_to_users = {}\n",
    "\n",
    "    for e in events:\n",
    "        if e.get(\"type\") == \"PushEvent\":\n",
    "            repo_name = e[\"repo\"][\"name\"]\n",
    "            user = e[\"actor\"][\"login\"]\n",
    "            if not is_real_user(user):\n",
    "                continue\n",
    "\n",
    "            if repo_name not in repo_to_users:\n",
    "                repo_to_users[repo_name] = set()\n",
    "            repo_to_users[repo_name].add(user)\n",
    "\n",
    "\n",
    "    users_master = []\n",
    "\n",
    "    for repo, users in repo_to_users.items():\n",
    "\n",
    "        if len(users) < 3:\n",
    "            continue\n",
    "\n",
    "        users_list = list(users)\n",
    "\n",
    "        users_master.append(users_list)\n",
    "\n",
    "        for i in range(len(users_list)):\n",
    "            for j in range(i+1, len(users_list)):\n",
    "                u1 = users_list[i]\n",
    "                u2 = users_list[j]\n",
    "\n",
    "                if G.has_edge(u1, u2):\n",
    "                    G[u1][u2]['weight'] += 1\n",
    "                else:\n",
    "                    G.add_edge(u1, u2, weight=1)\n",
    "    \n",
    "    with open('arquivo.json', 'w') as f:\n",
    "        json.dump(users_master, f)\n",
    "    return G\n"
   ]
  },
  {
   "cell_type": "markdown",
   "id": "a8b54d36",
   "metadata": {},
   "source": [
    "- Função para desenhar o grafo"
   ]
  },
  {
   "cell_type": "code",
   "execution_count": null,
   "id": "15b90670",
   "metadata": {},
   "outputs": [],
   "source": [
    "def draw_graph(graph, degrees):\n",
    "    plt.figure(figsize=(12, 12))\n",
    "    \n",
    "    pos = nx.spring_layout(graph, k=0.1)\n",
    "\n",
    "    node_sizes = [degrees[n] ** 2 for n in graph.nodes()]\n",
    "\n",
    "    nx.draw_networkx_nodes(\n",
    "        graph,\n",
    "        pos,\n",
    "        node_size=node_sizes,\n",
    "        node_color=\"royalblue\",\n",
    "        alpha=0.8\n",
    "    )\n",
    "\n",
    "    nx.draw_networkx_edges(\n",
    "        graph,\n",
    "        pos,\n",
    "        alpha=0.3\n",
    "    )\n"
   ]
  },
  {
   "cell_type": "markdown",
   "id": "50725fc4",
   "metadata": {},
   "source": [
    "- Função para carregar os graus"
   ]
  },
  {
   "cell_type": "code",
   "execution_count": null,
   "id": "f7e1a441",
   "metadata": {},
   "outputs": [],
   "source": [
    "def load_degrees(graph):\n",
    "    degrees = dict(graph.degree())\n",
    "\n",
    "    degree_to_users = {}\n",
    "\n",
    "    for user, degree in degrees.items():\n",
    "        if degree not in degree_to_users:\n",
    "            degree_to_users[degree] = []\n",
    "\n",
    "        degree_to_users[degree].append(user)\n",
    "\n",
    "    return degree_to_users, degrees"
   ]
  },
  {
   "cell_type": "markdown",
   "id": "d0b179f2",
   "metadata": {},
   "source": [
    "## 2. Definição das questões de pesquisa\n",
    "\n",
    "1. Quais desenvolvedores colaboram com mais frequência com outros em projetos públicos? -> Cód\n",
    "2. Existem padrões visuais que indicam silos ou isolamento de certos grupos de desenvolvedores? -> Grafo\n",
    "3. Existem padrões visuais que sugerem estrutura hierárquica, como redes em estrela, árvores ou galhos? -> Grafo\n",
    "4. Existem desenvolvedores que funcionam como “ponte” entre grupos distintos? -> Grafo\n",
    "5. Quais repositórios promovem mais colaboração entre usuários diferentes? -> Cód"
   ]
  },
  {
   "cell_type": "markdown",
   "id": "472ba5f9",
   "metadata": {},
   "source": [
    "## 3. Visualizações da rede"
   ]
  },
  {
   "cell_type": "markdown",
   "id": "a4ab5f43",
   "metadata": {},
   "source": [
    "- Carregando o grafo e seus graus"
   ]
  },
  {
   "cell_type": "code",
   "execution_count": null,
   "id": "3f6293f2",
   "metadata": {},
   "outputs": [],
   "source": [
    "events = []"
   ]
  },
  {
   "cell_type": "code",
   "execution_count": null,
   "id": "31574074",
   "metadata": {},
   "outputs": [],
   "source": [
    "for i in range(8,10):\n",
    "    events_download = download_and_parse(DATABASE_URL+\"2025-06-17-\"+str(i)+\".json.gz\")\n",
    "    events.extend(events_download)\n"
   ]
  },
  {
   "cell_type": "code",
   "execution_count": null,
   "id": "d59c27f0",
   "metadata": {},
   "outputs": [],
   "source": [
    "graph = build_graph(events)\n",
    "\n",
    "degrees_to_user, degrees = load_degrees(graph)"
   ]
  },
  {
   "cell_type": "markdown",
   "id": "24fd8b97",
   "metadata": {},
   "source": [
    "### 1ª Visualização - Componentes conexos\n",
    "- Isola e destaca o maior grupo de desenvolvedores conectados entre si."
   ]
  },
  {
   "cell_type": "code",
   "execution_count": null,
   "id": "d0c46aff",
   "metadata": {},
   "outputs": [],
   "source": [
    "largest_cc = max(nx.connected_components(graph), key=len)\n",
    "subgraph = graph.subgraph(largest_cc)\n",
    "\n",
    "draw_graph(subgraph, degrees)\n",
    "plt.title(\"Maior componente conexo da rede\")\n",
    "plt.savefig(\"./assets/maior_componente.png\")"
   ]
  },
  {
   "cell_type": "markdown",
   "id": "fd160ef1",
   "metadata": {},
   "source": [
    "### 2ª Visualização - Subgrafo com os 20 nós mais conectados"
   ]
  },
  {
   "cell_type": "code",
   "execution_count": null,
   "id": "1c5549a4",
   "metadata": {},
   "outputs": [],
   "source": [
    "top_users = sorted(degrees.items(), key=lambda x: x[1], reverse=True)[:20]\n",
    "top_usernames = [u for u, _ in top_users]\n",
    "subgraph = graph.subgraph(top_usernames)\n",
    "\n",
    "draw_graph(subgraph, degrees)\n",
    "plt.title(\"Subgrafo: Top 20 desenvolvedores por grau\")\n",
    "plt.savefig(\"./assets/top20_grafo.png\")"
   ]
  },
  {
   "cell_type": "markdown",
   "id": "11aa0c93",
   "metadata": {},
   "source": [
    "### 3ª Visualização - Rede com nós dimensionados pela centralidade (grau)"
   ]
  },
  {
   "cell_type": "code",
   "execution_count": null,
   "id": "22f51136",
   "metadata": {},
   "outputs": [],
   "source": [
    "draw_graph(graph, degrees)\n",
    "\n",
    "plt.title(\"Rede de Colaboração entre Desenvolvedores (PushEvent)\")\n",
    "plt.axis(\"off\")\n",
    "plt.tight_layout()\n",
    "plt.savefig('./assets/rede-colaboracao-devs.png')"
   ]
  },
  {
   "cell_type": "markdown",
   "id": "70033ef0",
   "metadata": {},
   "source": [
    "## 4. Análise estrutural"
   ]
  },
  {
   "cell_type": "markdown",
   "id": "3db080eb",
   "metadata": {},
   "source": [
    "### Maior Componente Conexo"
   ]
  },
  {
   "cell_type": "code",
   "execution_count": null,
   "id": "5b4d71bb",
   "metadata": {},
   "outputs": [],
   "source": [
    "largest_cc = max(nx.connected_components(graph), key=len)\n",
    "subgraph = graph.subgraph(largest_cc)\n",
    "\n",
    "degree_centrality = nx.degree_centrality(subgraph)\n",
    "betweenness_centrality = nx.betweenness_centrality(subgraph)\n",
    "closeness_centrality = nx.closeness_centrality(subgraph)\n",
    "\n",
    "centrality_df = pd.DataFrame({\n",
    "    \"Usuário\": list(degree_centrality.keys()),\n",
    "    \"Grau\": list(degree_centrality.values()),\n",
    "    \"Intermediação\": list(betweenness_centrality.values()),\n",
    "    \"Proximidade\": list(closeness_centrality.values())\n",
    "})\n",
    "\n",
    "top5 = centrality_df.sort_values(by=\"Grau\", ascending=False).head(5)\n",
    "top5.reset_index(drop=True, inplace=True)\n",
    "top5"
   ]
  },
  {
   "cell_type": "markdown",
   "id": "1ebb0394",
   "metadata": {},
   "source": [
    "### Densidade da rede"
   ]
  },
  {
   "cell_type": "code",
   "execution_count": null,
   "id": "2104c5fc",
   "metadata": {},
   "outputs": [],
   "source": [
    "density_total = nx.density(graph)\n",
    "density_subgraph = nx.density(subgraph)\n",
    "\n",
    "print(f\"Densidade da rede completa: {density_total:.5f}\")\n",
    "print(f\"Densidade do maior componente: {density_subgraph:.5f}\")"
   ]
  },
  {
   "cell_type": "markdown",
   "id": "ed73d99e",
   "metadata": {},
   "source": [
    "### Componentes conexos: quantidade e tamanhos"
   ]
  },
  {
   "cell_type": "code",
   "execution_count": null,
   "id": "f5f64e06",
   "metadata": {},
   "outputs": [],
   "source": [
    "components = list(nx.connected_components(graph))\n",
    "component_sizes = [len(c) for c in components]\n",
    "largest_size = max(component_sizes)\n",
    "average_size = sum(component_sizes) / len(component_sizes)\n",
    "\n",
    "print(f\"Número de componentes conexos: {len(components)}\")\n",
    "print(f\"Tamanho do maior componente: {largest_size}\")\n",
    "print(f\"Tamanho médio dos componentes: {average_size:.2f}\")\n"
   ]
  },
  {
   "cell_type": "markdown",
   "id": "9e6ab7e8",
   "metadata": {},
   "source": [
    "### Diâmetro e distância média (somente no maior componente)"
   ]
  },
  {
   "cell_type": "code",
   "execution_count": null,
   "id": "a7daffb8",
   "metadata": {},
   "outputs": [],
   "source": [
    "if nx.is_connected(subgraph):\n",
    "    diameter = nx.diameter(subgraph)\n",
    "    avg_path_length = nx.average_shortest_path_length(subgraph)\n",
    "\n",
    "    print(f\"Diâmetro do maior componente: {diameter}\")\n",
    "    print(f\"Comprimento médio dos caminhos: {avg_path_length:.2f}\")\n",
    "else:\n",
    "    print(\"O maior subgrafo não é conexo.\")\n"
   ]
  },
  {
   "cell_type": "markdown",
   "id": "d447a3bb",
   "metadata": {},
   "source": [
    "### Clustering (coeficiente de aglomeração)"
   ]
  },
  {
   "cell_type": "code",
   "execution_count": null,
   "id": "d7bdd036",
   "metadata": {},
   "outputs": [],
   "source": [
    "avg_clustering = nx.average_clustering(graph)\n",
    "top_clustering = nx.clustering(graph)\n",
    "\n",
    "top5_clustering = sorted(top_clustering.items(), key=lambda x: x[1], reverse=True)[:5]\n",
    "clustering_df = pd.DataFrame(top5_clustering, columns=[\"Usuário\", \"Coef. Clustering\"])\n",
    "\n",
    "print(f\"Clustering médio da rede: {avg_clustering:.4f}\")\n",
    "clustering_df\n"
   ]
  },
  {
   "cell_type": "markdown",
   "id": "017ce510",
   "metadata": {},
   "source": [
    "## 5. Aplicação de técnicas adicionais"
   ]
  },
  {
   "cell_type": "markdown",
   "id": "1bd02a76",
   "metadata": {},
   "source": [
    "### Detecção de Comunidades com o algoritmo de Louvain"
   ]
  },
  {
   "cell_type": "code",
   "execution_count": null,
   "id": "8b8099c3",
   "metadata": {},
   "outputs": [],
   "source": [
    "largest_cc = max(nx.connected_components(graph), key=len)\n",
    "subgraph = graph.subgraph(largest_cc)\n",
    "\n",
    "partition = community_louvain.best_partition(subgraph, weight='weight')\n",
    "\n",
    "num_communities = len(set(partition.values()))\n",
    "print(f\"Comunidades detectadas: {num_communities}\")\n",
    "\n",
    "pos = nx.spring_layout(subgraph, seed=42)\n",
    "cmap = cm.get_cmap('tab20', num_communities)\n",
    "\n",
    "plt.figure(figsize=(12, 12))\n",
    "nx.draw_networkx_nodes(\n",
    "    subgraph,\n",
    "    pos,\n",
    "    partition.keys(),\n",
    "    node_size=80,\n",
    "    cmap=cmap,\n",
    "    node_color=list(partition.values()),\n",
    "    alpha=0.9\n",
    ")\n",
    "nx.draw_networkx_edges(subgraph, pos, alpha=0.2)\n",
    "plt.title(\"Comunidades detectadas pelo algoritmo de Louvain\")\n",
    "plt.axis('off')\n",
    "plt.tight_layout()\n",
    "plt.savefig('./assets/comunidades_louvain.png')\n",
    "plt.show()"
   ]
  },
  {
   "cell_type": "markdown",
   "id": "caa1f1a1",
   "metadata": {},
   "source": [
    "## 6. Discussão e conclusões"
   ]
  },
  {
   "cell_type": "markdown",
   "id": "fcd6866d",
   "metadata": {},
   "source": [
    "### Respostas das Perguntas\n",
    "\n",
    "1. Quais desenvolvedores colaboram com mais frequência com outros em projetos públicos? -> Cód"
   ]
  },
  {
   "cell_type": "code",
   "execution_count": null,
   "id": "e9efbeb1",
   "metadata": {},
   "outputs": [],
   "source": [
    "def desenvolvedores_com_mais_conexoes(G, top_n=5):\n",
    "    graus = dict(G.degree())\n",
    "    mais_conectados = sorted(graus.items(), key=lambda x: x[1], reverse=True)\n",
    "    return mais_conectados[:top_n]"
   ]
  },
  {
   "cell_type": "code",
   "execution_count": null,
   "id": "159370ce",
   "metadata": {},
   "outputs": [],
   "source": [
    "devs_grau = desenvolvedores_com_mais_conexoes(graph)\n",
    "print(\"\\nMais conectados por número de pessoas:\")\n",
    "for dev, grau in devs_grau:\n",
    "    print(f\"{dev} - {grau} desenvolvedores diferentes\")\n"
   ]
  },
  {
   "cell_type": "markdown",
   "id": "34e4e434",
   "metadata": {},
   "source": [
    "2. Existem padrões visuais que indicam silos ou isolamento de certos grupos de desenvolvedores? -> Grafo"
   ]
  },
  {
   "cell_type": "markdown",
   "id": "376f93b5",
   "metadata": {},
   "source": [
    "Sim, observando o grafo da rede de colaboração dos Devs, é possível observar que basicamente as conexões são formadas por silos ou isolamento de grupos."
   ]
  },
  {
   "cell_type": "markdown",
   "id": "9f2295dd",
   "metadata": {},
   "source": [
    "3. Existem padrões visuais que sugerem estrutura hierárquica, como redes em estrela, árvores ou galhos? -> Grafo"
   ]
  },
  {
   "cell_type": "markdown",
   "id": "f2d09ee5",
   "metadata": {},
   "source": [
    "Possivelmente sim, porém aparentam ser poucos os casos de grupos que sugerem a estrutura hierárquica, somente caso for analisado mais profundo grupos por grupos pela nossa rede ser isolada."
   ]
  },
  {
   "cell_type": "markdown",
   "id": "14ac093f",
   "metadata": {},
   "source": [
    "4. Existem desenvolvedores que funcionam como “ponte” entre grupos distintos? -> Grafo"
   ]
  },
  {
   "cell_type": "markdown",
   "id": "b04aa6f5",
   "metadata": {},
   "source": [
    "5. Quais pares de desenvolvedores mais colaboraram em projetos públicos? -> Cód"
   ]
  },
  {
   "cell_type": "code",
   "execution_count": null,
   "id": "79833531",
   "metadata": {},
   "outputs": [],
   "source": [
    "def maiores_colaboradores(grafo, top_n=5):\n",
    "    arestas = list(grafo.edges(data=True))\n",
    "    mais_colaboraram = sorted(arestas, key=lambda x: x[2]['weight'], reverse=True)\n",
    "    \n",
    "    return mais_colaboraram[:top_n]"
   ]
  },
  {
   "cell_type": "code",
   "execution_count": null,
   "id": "4396363a",
   "metadata": {},
   "outputs": [],
   "source": [
    "top_colabs = maiores_colaboradores(graph)\n",
    "print(\"Pares que mais colaboraram:\")\n",
    "for u1, u2, data in top_colabs:\n",
    "    print(f\"{u1} ↔ {u2} — {data['weight']} colaborações\")\n"
   ]
  }
 ],
 "metadata": {
  "kernelspec": {
   "display_name": "Python 3",
   "language": "python",
   "name": "python3"
  },
  "language_info": {
   "codemirror_mode": {
    "name": "ipython",
    "version": 3
   },
   "file_extension": ".py",
   "mimetype": "text/x-python",
   "name": "python",
   "nbconvert_exporter": "python",
   "pygments_lexer": "ipython3",
   "version": "3.13.3"
  }
 },
 "nbformat": 4,
 "nbformat_minor": 5
}
